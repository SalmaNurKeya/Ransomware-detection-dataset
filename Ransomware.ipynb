{
  "nbformat": 4,
  "nbformat_minor": 0,
  "metadata": {
    "colab": {
      "provenance": [],
      "authorship_tag": "ABX9TyMrK1MPwFYbVAkSExU5AOFl",
      "include_colab_link": true
    },
    "kernelspec": {
      "name": "python3",
      "display_name": "Python 3"
    },
    "language_info": {
      "name": "python"
    }
  },
  "cells": [
    {
      "cell_type": "markdown",
      "metadata": {
        "id": "view-in-github",
        "colab_type": "text"
      },
      "source": [
        "<a href=\"https://colab.research.google.com/github/SalmaNurKeya/Ransomware-detection-dataset/blob/main/Ransomware.ipynb\" target=\"_parent\"><img src=\"https://colab.research.google.com/assets/colab-badge.svg\" alt=\"Open In Colab\"/></a>"
      ]
    },
    {
      "cell_type": "code",
      "execution_count": 1,
      "metadata": {
        "id": "L7Szm9KcH4hr"
      },
      "outputs": [],
      "source": [
        "import pandas as pd\n",
        "from google.colab import drive"
      ]
    },
    {
      "cell_type": "code",
      "source": [
        "# Mount Google Drive\n",
        "drive.mount('/content/drive')"
      ],
      "metadata": {
        "colab": {
          "base_uri": "https://localhost:8080/"
        },
        "id": "L3aLJaVARE4X",
        "outputId": "3173a1f9-a750-4df5-b6d4-11abf5fbedb4"
      },
      "execution_count": 2,
      "outputs": [
        {
          "output_type": "stream",
          "name": "stdout",
          "text": [
            "Mounted at /content/drive\n"
          ]
        }
      ]
    },
    {
      "cell_type": "code",
      "source": [
        "# Load dataset\n",
        "df = pd.read_csv('/content/drive/MyDrive/API  File Dataset for Ransomware Detection.csv') #download and paste here the link from google drive\n"
      ],
      "metadata": {
        "id": "16jy2q4WRX6X"
      },
      "execution_count": 3,
      "outputs": []
    },
    {
      "cell_type": "code",
      "source": [
        "print(\"Dataset loaded successfully.\")\n",
        "print(\"Shape:\", df.shape)\n",
        "print(\"Columns:\", df.columns.tolist())\n"
      ],
      "metadata": {
        "colab": {
          "base_uri": "https://localhost:8080/"
        },
        "id": "G5etF_pfTD5e",
        "outputId": "8a3b2cd6-8b54-484d-d743-86e16b74af67"
      },
      "execution_count": 7,
      "outputs": [
        {
          "output_type": "stream",
          "name": "stdout",
          "text": [
            "Dataset loaded successfully.\n",
            "Shape: (387, 49)\n",
            "Columns: ['Unnamed: 0', 'SetEndOfFile', 'NtWriteFile', 'NtDeviceIoControlFile', 'NtQueryDirectoryFile', 'NtCreateFile', 'FindFirstFileExW', 'GetFileAttributesW', 'NtQueryInformationFile', 'NtReadFile', 'GetFileType', 'NtOpenFile', 'NtSetInformationFile', 'SetFilePointerEx', 'GetFileSizeEx', 'DeviceIoControl', 'SetFilePointer', 'SUMMARY_WRITE', 'SUMMARY_READ', 'DeleteFileW', 'SetFileTime', 'MoveFileWithProgressW', 'SetFileAttributesW', 'GetFileAttributesExW', 'SUMMARY_CREATE', 'GetFileSize', 'SUMMARY_DELETE', 'GetShortPathNameW', 'GetFileInformationByHandle', 'GetSystemDirectoryW', 'GetSystemWindowsDirectoryW', 'GetTempPathW', 'NtQueryAttributesFile', 'NtOpenDirectoryObject', 'GetFileInformationByHandleEx', 'GetVolumePathNamesForVolumeNameW', 'SearchPathW', 'GetVolumeNameForVolumeMountPointW', 'CreateDirectoryW', 'CopyFileA', 'CopyFileW', 'GetSystemDirectoryA', 'RemoveDirectoryW', 'GetVolumePathNameW', 'GetSystemWindowsDirectoryA', 'SetFileInformationByHandle', 'RemoveDirectoryA', 'CopyFileExW', 'NtDeleteFile']\n"
          ]
        }
      ]
    },
    {
      "cell_type": "code",
      "source": [
        "# Show first few rows\n",
        "display(df.head())\n",
        "\n",
        "# Show value counts for 'Benign' column\n",
        "# display(df['Benign'].value_counts())"
      ],
      "metadata": {
        "colab": {
          "base_uri": "https://localhost:8080/",
          "height": 256
        },
        "id": "wRjEGOXQUJf1",
        "outputId": "83b5ac88-42ae-400a-e319-7fee06cbf1aa"
      },
      "execution_count": 10,
      "outputs": [
        {
          "output_type": "display_data",
          "data": {
            "text/plain": [
              "    Unnamed: 0  SetEndOfFile  NtWriteFile  NtDeviceIoControlFile  \\\n",
              "0        TOTAL       1198536       567980                 542420   \n",
              "1  samples_ID1             0            0                      0   \n",
              "2  samples_ID2             0            0                      0   \n",
              "3  samples_ID3             0            0                      1   \n",
              "4  samples_ID4             0            0                      2   \n",
              "\n",
              "   NtQueryDirectoryFile  NtCreateFile  FindFirstFileExW  GetFileAttributesW  \\\n",
              "0                432054        414052            391895              311905   \n",
              "1                     5             2                 0                   0   \n",
              "2                     0             5                 0                   0   \n",
              "3                     0             0                 0                   0   \n",
              "4                     0             5                 0                   0   \n",
              "\n",
              "   NtQueryInformationFile  NtReadFile  ...  CopyFileA  CopyFileW  \\\n",
              "0                  302585      254608  ...        218        198   \n",
              "1                       1           1  ...          0          0   \n",
              "2                       0           0  ...          0          0   \n",
              "3                       0           0  ...          0          0   \n",
              "4                       0           1  ...          0          0   \n",
              "\n",
              "   GetSystemDirectoryA  RemoveDirectoryW  GetVolumePathNameW  \\\n",
              "0                  117               101                  66   \n",
              "1                    2                 0                   1   \n",
              "2                    1                 0                   0   \n",
              "3                    0                 0                   0   \n",
              "4                    2                 0                   0   \n",
              "\n",
              "   GetSystemWindowsDirectoryA  SetFileInformationByHandle  RemoveDirectoryA  \\\n",
              "0                          24                          17                 4   \n",
              "1                           0                           0                 0   \n",
              "2                           0                           0                 0   \n",
              "3                           0                           0                 0   \n",
              "4                           0                           0                 0   \n",
              "\n",
              "   CopyFileExW  NtDeleteFile  \n",
              "0            3             1  \n",
              "1            0             0  \n",
              "2            0             0  \n",
              "3            0             0  \n",
              "4            0             0  \n",
              "\n",
              "[5 rows x 49 columns]"
            ],
            "text/html": [
              "\n",
              "  <div id=\"df-9fb5801f-4440-464d-9113-ce430919459e\" class=\"colab-df-container\">\n",
              "    <div>\n",
              "<style scoped>\n",
              "    .dataframe tbody tr th:only-of-type {\n",
              "        vertical-align: middle;\n",
              "    }\n",
              "\n",
              "    .dataframe tbody tr th {\n",
              "        vertical-align: top;\n",
              "    }\n",
              "\n",
              "    .dataframe thead th {\n",
              "        text-align: right;\n",
              "    }\n",
              "</style>\n",
              "<table border=\"1\" class=\"dataframe\">\n",
              "  <thead>\n",
              "    <tr style=\"text-align: right;\">\n",
              "      <th></th>\n",
              "      <th>Unnamed: 0</th>\n",
              "      <th>SetEndOfFile</th>\n",
              "      <th>NtWriteFile</th>\n",
              "      <th>NtDeviceIoControlFile</th>\n",
              "      <th>NtQueryDirectoryFile</th>\n",
              "      <th>NtCreateFile</th>\n",
              "      <th>FindFirstFileExW</th>\n",
              "      <th>GetFileAttributesW</th>\n",
              "      <th>NtQueryInformationFile</th>\n",
              "      <th>NtReadFile</th>\n",
              "      <th>...</th>\n",
              "      <th>CopyFileA</th>\n",
              "      <th>CopyFileW</th>\n",
              "      <th>GetSystemDirectoryA</th>\n",
              "      <th>RemoveDirectoryW</th>\n",
              "      <th>GetVolumePathNameW</th>\n",
              "      <th>GetSystemWindowsDirectoryA</th>\n",
              "      <th>SetFileInformationByHandle</th>\n",
              "      <th>RemoveDirectoryA</th>\n",
              "      <th>CopyFileExW</th>\n",
              "      <th>NtDeleteFile</th>\n",
              "    </tr>\n",
              "  </thead>\n",
              "  <tbody>\n",
              "    <tr>\n",
              "      <th>0</th>\n",
              "      <td>TOTAL</td>\n",
              "      <td>1198536</td>\n",
              "      <td>567980</td>\n",
              "      <td>542420</td>\n",
              "      <td>432054</td>\n",
              "      <td>414052</td>\n",
              "      <td>391895</td>\n",
              "      <td>311905</td>\n",
              "      <td>302585</td>\n",
              "      <td>254608</td>\n",
              "      <td>...</td>\n",
              "      <td>218</td>\n",
              "      <td>198</td>\n",
              "      <td>117</td>\n",
              "      <td>101</td>\n",
              "      <td>66</td>\n",
              "      <td>24</td>\n",
              "      <td>17</td>\n",
              "      <td>4</td>\n",
              "      <td>3</td>\n",
              "      <td>1</td>\n",
              "    </tr>\n",
              "    <tr>\n",
              "      <th>1</th>\n",
              "      <td>samples_ID1</td>\n",
              "      <td>0</td>\n",
              "      <td>0</td>\n",
              "      <td>0</td>\n",
              "      <td>5</td>\n",
              "      <td>2</td>\n",
              "      <td>0</td>\n",
              "      <td>0</td>\n",
              "      <td>1</td>\n",
              "      <td>1</td>\n",
              "      <td>...</td>\n",
              "      <td>0</td>\n",
              "      <td>0</td>\n",
              "      <td>2</td>\n",
              "      <td>0</td>\n",
              "      <td>1</td>\n",
              "      <td>0</td>\n",
              "      <td>0</td>\n",
              "      <td>0</td>\n",
              "      <td>0</td>\n",
              "      <td>0</td>\n",
              "    </tr>\n",
              "    <tr>\n",
              "      <th>2</th>\n",
              "      <td>samples_ID2</td>\n",
              "      <td>0</td>\n",
              "      <td>0</td>\n",
              "      <td>0</td>\n",
              "      <td>0</td>\n",
              "      <td>5</td>\n",
              "      <td>0</td>\n",
              "      <td>0</td>\n",
              "      <td>0</td>\n",
              "      <td>0</td>\n",
              "      <td>...</td>\n",
              "      <td>0</td>\n",
              "      <td>0</td>\n",
              "      <td>1</td>\n",
              "      <td>0</td>\n",
              "      <td>0</td>\n",
              "      <td>0</td>\n",
              "      <td>0</td>\n",
              "      <td>0</td>\n",
              "      <td>0</td>\n",
              "      <td>0</td>\n",
              "    </tr>\n",
              "    <tr>\n",
              "      <th>3</th>\n",
              "      <td>samples_ID3</td>\n",
              "      <td>0</td>\n",
              "      <td>0</td>\n",
              "      <td>1</td>\n",
              "      <td>0</td>\n",
              "      <td>0</td>\n",
              "      <td>0</td>\n",
              "      <td>0</td>\n",
              "      <td>0</td>\n",
              "      <td>0</td>\n",
              "      <td>...</td>\n",
              "      <td>0</td>\n",
              "      <td>0</td>\n",
              "      <td>0</td>\n",
              "      <td>0</td>\n",
              "      <td>0</td>\n",
              "      <td>0</td>\n",
              "      <td>0</td>\n",
              "      <td>0</td>\n",
              "      <td>0</td>\n",
              "      <td>0</td>\n",
              "    </tr>\n",
              "    <tr>\n",
              "      <th>4</th>\n",
              "      <td>samples_ID4</td>\n",
              "      <td>0</td>\n",
              "      <td>0</td>\n",
              "      <td>2</td>\n",
              "      <td>0</td>\n",
              "      <td>5</td>\n",
              "      <td>0</td>\n",
              "      <td>0</td>\n",
              "      <td>0</td>\n",
              "      <td>1</td>\n",
              "      <td>...</td>\n",
              "      <td>0</td>\n",
              "      <td>0</td>\n",
              "      <td>2</td>\n",
              "      <td>0</td>\n",
              "      <td>0</td>\n",
              "      <td>0</td>\n",
              "      <td>0</td>\n",
              "      <td>0</td>\n",
              "      <td>0</td>\n",
              "      <td>0</td>\n",
              "    </tr>\n",
              "  </tbody>\n",
              "</table>\n",
              "<p>5 rows × 49 columns</p>\n",
              "</div>\n",
              "    <div class=\"colab-df-buttons\">\n",
              "\n",
              "  <div class=\"colab-df-container\">\n",
              "    <button class=\"colab-df-convert\" onclick=\"convertToInteractive('df-9fb5801f-4440-464d-9113-ce430919459e')\"\n",
              "            title=\"Convert this dataframe to an interactive table.\"\n",
              "            style=\"display:none;\">\n",
              "\n",
              "  <svg xmlns=\"http://www.w3.org/2000/svg\" height=\"24px\" viewBox=\"0 -960 960 960\">\n",
              "    <path d=\"M120-120v-720h720v720H120Zm60-500h600v-160H180v160Zm220 220h160v-160H400v160Zm0 220h160v-160H400v160ZM180-400h160v-160H180v160Zm440 0h160v-160H620v160ZM180-180h160v-160H180v160Zm440 0h160v-160H620v160Z\"/>\n",
              "  </svg>\n",
              "    </button>\n",
              "\n",
              "  <style>\n",
              "    .colab-df-container {\n",
              "      display:flex;\n",
              "      gap: 12px;\n",
              "    }\n",
              "\n",
              "    .colab-df-convert {\n",
              "      background-color: #E8F0FE;\n",
              "      border: none;\n",
              "      border-radius: 50%;\n",
              "      cursor: pointer;\n",
              "      display: none;\n",
              "      fill: #1967D2;\n",
              "      height: 32px;\n",
              "      padding: 0 0 0 0;\n",
              "      width: 32px;\n",
              "    }\n",
              "\n",
              "    .colab-df-convert:hover {\n",
              "      background-color: #E2EBFA;\n",
              "      box-shadow: 0px 1px 2px rgba(60, 64, 67, 0.3), 0px 1px 3px 1px rgba(60, 64, 67, 0.15);\n",
              "      fill: #174EA6;\n",
              "    }\n",
              "\n",
              "    .colab-df-buttons div {\n",
              "      margin-bottom: 4px;\n",
              "    }\n",
              "\n",
              "    [theme=dark] .colab-df-convert {\n",
              "      background-color: #3B4455;\n",
              "      fill: #D2E3FC;\n",
              "    }\n",
              "\n",
              "    [theme=dark] .colab-df-convert:hover {\n",
              "      background-color: #434B5C;\n",
              "      box-shadow: 0px 1px 3px 1px rgba(0, 0, 0, 0.15);\n",
              "      filter: drop-shadow(0px 1px 2px rgba(0, 0, 0, 0.3));\n",
              "      fill: #FFFFFF;\n",
              "    }\n",
              "  </style>\n",
              "\n",
              "    <script>\n",
              "      const buttonEl =\n",
              "        document.querySelector('#df-9fb5801f-4440-464d-9113-ce430919459e button.colab-df-convert');\n",
              "      buttonEl.style.display =\n",
              "        google.colab.kernel.accessAllowed ? 'block' : 'none';\n",
              "\n",
              "      async function convertToInteractive(key) {\n",
              "        const element = document.querySelector('#df-9fb5801f-4440-464d-9113-ce430919459e');\n",
              "        const dataTable =\n",
              "          await google.colab.kernel.invokeFunction('convertToInteractive',\n",
              "                                                    [key], {});\n",
              "        if (!dataTable) return;\n",
              "\n",
              "        const docLinkHtml = 'Like what you see? Visit the ' +\n",
              "          '<a target=\"_blank\" href=https://colab.research.google.com/notebooks/data_table.ipynb>data table notebook</a>'\n",
              "          + ' to learn more about interactive tables.';\n",
              "        element.innerHTML = '';\n",
              "        dataTable['output_type'] = 'display_data';\n",
              "        await google.colab.output.renderOutput(dataTable, element);\n",
              "        const docLink = document.createElement('div');\n",
              "        docLink.innerHTML = docLinkHtml;\n",
              "        element.appendChild(docLink);\n",
              "      }\n",
              "    </script>\n",
              "  </div>\n",
              "\n",
              "\n",
              "    <div id=\"df-530b3c90-fa43-479b-8f1f-08537c7bfadd\">\n",
              "      <button class=\"colab-df-quickchart\" onclick=\"quickchart('df-530b3c90-fa43-479b-8f1f-08537c7bfadd')\"\n",
              "                title=\"Suggest charts\"\n",
              "                style=\"display:none;\">\n",
              "\n",
              "<svg xmlns=\"http://www.w3.org/2000/svg\" height=\"24px\"viewBox=\"0 0 24 24\"\n",
              "     width=\"24px\">\n",
              "    <g>\n",
              "        <path d=\"M19 3H5c-1.1 0-2 .9-2 2v14c0 1.1.9 2 2 2h14c1.1 0 2-.9 2-2V5c0-1.1-.9-2-2-2zM9 17H7v-7h2v7zm4 0h-2V7h2v10zm4 0h-2v-4h2v4z\"/>\n",
              "    </g>\n",
              "</svg>\n",
              "      </button>\n",
              "\n",
              "<style>\n",
              "  .colab-df-quickchart {\n",
              "      --bg-color: #E8F0FE;\n",
              "      --fill-color: #1967D2;\n",
              "      --hover-bg-color: #E2EBFA;\n",
              "      --hover-fill-color: #174EA6;\n",
              "      --disabled-fill-color: #AAA;\n",
              "      --disabled-bg-color: #DDD;\n",
              "  }\n",
              "\n",
              "  [theme=dark] .colab-df-quickchart {\n",
              "      --bg-color: #3B4455;\n",
              "      --fill-color: #D2E3FC;\n",
              "      --hover-bg-color: #434B5C;\n",
              "      --hover-fill-color: #FFFFFF;\n",
              "      --disabled-bg-color: #3B4455;\n",
              "      --disabled-fill-color: #666;\n",
              "  }\n",
              "\n",
              "  .colab-df-quickchart {\n",
              "    background-color: var(--bg-color);\n",
              "    border: none;\n",
              "    border-radius: 50%;\n",
              "    cursor: pointer;\n",
              "    display: none;\n",
              "    fill: var(--fill-color);\n",
              "    height: 32px;\n",
              "    padding: 0;\n",
              "    width: 32px;\n",
              "  }\n",
              "\n",
              "  .colab-df-quickchart:hover {\n",
              "    background-color: var(--hover-bg-color);\n",
              "    box-shadow: 0 1px 2px rgba(60, 64, 67, 0.3), 0 1px 3px 1px rgba(60, 64, 67, 0.15);\n",
              "    fill: var(--button-hover-fill-color);\n",
              "  }\n",
              "\n",
              "  .colab-df-quickchart-complete:disabled,\n",
              "  .colab-df-quickchart-complete:disabled:hover {\n",
              "    background-color: var(--disabled-bg-color);\n",
              "    fill: var(--disabled-fill-color);\n",
              "    box-shadow: none;\n",
              "  }\n",
              "\n",
              "  .colab-df-spinner {\n",
              "    border: 2px solid var(--fill-color);\n",
              "    border-color: transparent;\n",
              "    border-bottom-color: var(--fill-color);\n",
              "    animation:\n",
              "      spin 1s steps(1) infinite;\n",
              "  }\n",
              "\n",
              "  @keyframes spin {\n",
              "    0% {\n",
              "      border-color: transparent;\n",
              "      border-bottom-color: var(--fill-color);\n",
              "      border-left-color: var(--fill-color);\n",
              "    }\n",
              "    20% {\n",
              "      border-color: transparent;\n",
              "      border-left-color: var(--fill-color);\n",
              "      border-top-color: var(--fill-color);\n",
              "    }\n",
              "    30% {\n",
              "      border-color: transparent;\n",
              "      border-left-color: var(--fill-color);\n",
              "      border-top-color: var(--fill-color);\n",
              "      border-right-color: var(--fill-color);\n",
              "    }\n",
              "    40% {\n",
              "      border-color: transparent;\n",
              "      border-right-color: var(--fill-color);\n",
              "      border-top-color: var(--fill-color);\n",
              "    }\n",
              "    60% {\n",
              "      border-color: transparent;\n",
              "      border-right-color: var(--fill-color);\n",
              "    }\n",
              "    80% {\n",
              "      border-color: transparent;\n",
              "      border-right-color: var(--fill-color);\n",
              "      border-bottom-color: var(--fill-color);\n",
              "    }\n",
              "    90% {\n",
              "      border-color: transparent;\n",
              "      border-bottom-color: var(--fill-color);\n",
              "    }\n",
              "  }\n",
              "</style>\n",
              "\n",
              "      <script>\n",
              "        async function quickchart(key) {\n",
              "          const quickchartButtonEl =\n",
              "            document.querySelector('#' + key + ' button');\n",
              "          quickchartButtonEl.disabled = true;  // To prevent multiple clicks.\n",
              "          quickchartButtonEl.classList.add('colab-df-spinner');\n",
              "          try {\n",
              "            const charts = await google.colab.kernel.invokeFunction(\n",
              "                'suggestCharts', [key], {});\n",
              "          } catch (error) {\n",
              "            console.error('Error during call to suggestCharts:', error);\n",
              "          }\n",
              "          quickchartButtonEl.classList.remove('colab-df-spinner');\n",
              "          quickchartButtonEl.classList.add('colab-df-quickchart-complete');\n",
              "        }\n",
              "        (() => {\n",
              "          let quickchartButtonEl =\n",
              "            document.querySelector('#df-530b3c90-fa43-479b-8f1f-08537c7bfadd button');\n",
              "          quickchartButtonEl.style.display =\n",
              "            google.colab.kernel.accessAllowed ? 'block' : 'none';\n",
              "        })();\n",
              "      </script>\n",
              "    </div>\n",
              "\n",
              "    </div>\n",
              "  </div>\n"
            ],
            "application/vnd.google.colaboratory.intrinsic+json": {
              "type": "dataframe"
            }
          },
          "metadata": {}
        }
      ]
    },
    {
      "cell_type": "code",
      "source": [
        "# Drop identifier columns\n",
        "drop_cols = ['md5', 'sha1', 'file_extension']\n"
      ],
      "metadata": {
        "id": "5OVz2Nk3Ub7l"
      },
      "execution_count": 11,
      "outputs": []
    },
    {
      "cell_type": "code",
      "source": [
        "# Create df1 for 'Class' prediction\n",
        "drop_cols = ['md5Hash', 'FileName']\n",
        "df1 = df.drop(columns=drop_cols)\n",
        "df1 = df1.select_dtypes(include=['int64', 'float64']).merge(df[['Benign']], left_index=True, right_index=True)\n"
      ],
      "metadata": {
        "colab": {
          "base_uri": "https://localhost:8080/",
          "height": 339
        },
        "id": "qtFrURh4Zp-F",
        "outputId": "6483ed68-eb2c-43d4-dcc8-9a3cb09584ee"
      },
      "execution_count": 32,
      "outputs": [
        {
          "output_type": "error",
          "ename": "KeyError",
          "evalue": "\"['md5Hash', 'FileName'] not found in axis\"",
          "traceback": [
            "\u001b[0;31m---------------------------------------------------------------------------\u001b[0m",
            "\u001b[0;31mKeyError\u001b[0m                                  Traceback (most recent call last)",
            "\u001b[0;32m/tmp/ipython-input-2095602917.py\u001b[0m in \u001b[0;36m<cell line: 0>\u001b[0;34m()\u001b[0m\n\u001b[1;32m      1\u001b[0m \u001b[0;31m# Create df1 for 'Class' prediction\u001b[0m\u001b[0;34m\u001b[0m\u001b[0;34m\u001b[0m\u001b[0m\n\u001b[1;32m      2\u001b[0m \u001b[0mdrop_cols\u001b[0m \u001b[0;34m=\u001b[0m \u001b[0;34m[\u001b[0m\u001b[0;34m'md5Hash'\u001b[0m\u001b[0;34m,\u001b[0m \u001b[0;34m'FileName'\u001b[0m\u001b[0;34m]\u001b[0m\u001b[0;34m\u001b[0m\u001b[0;34m\u001b[0m\u001b[0m\n\u001b[0;32m----> 3\u001b[0;31m \u001b[0mdf1\u001b[0m \u001b[0;34m=\u001b[0m \u001b[0mdf\u001b[0m\u001b[0;34m.\u001b[0m\u001b[0mdrop\u001b[0m\u001b[0;34m(\u001b[0m\u001b[0mcolumns\u001b[0m\u001b[0;34m=\u001b[0m\u001b[0mdrop_cols\u001b[0m\u001b[0;34m)\u001b[0m\u001b[0;34m\u001b[0m\u001b[0;34m\u001b[0m\u001b[0m\n\u001b[0m\u001b[1;32m      4\u001b[0m \u001b[0mdf1\u001b[0m \u001b[0;34m=\u001b[0m \u001b[0mdf1\u001b[0m\u001b[0;34m.\u001b[0m\u001b[0mselect_dtypes\u001b[0m\u001b[0;34m(\u001b[0m\u001b[0minclude\u001b[0m\u001b[0;34m=\u001b[0m\u001b[0;34m[\u001b[0m\u001b[0;34m'int64'\u001b[0m\u001b[0;34m,\u001b[0m \u001b[0;34m'float64'\u001b[0m\u001b[0;34m]\u001b[0m\u001b[0;34m)\u001b[0m\u001b[0;34m.\u001b[0m\u001b[0mmerge\u001b[0m\u001b[0;34m(\u001b[0m\u001b[0mdf\u001b[0m\u001b[0;34m[\u001b[0m\u001b[0;34m[\u001b[0m\u001b[0;34m'Benign'\u001b[0m\u001b[0;34m]\u001b[0m\u001b[0;34m]\u001b[0m\u001b[0;34m,\u001b[0m \u001b[0mleft_index\u001b[0m\u001b[0;34m=\u001b[0m\u001b[0;32mTrue\u001b[0m\u001b[0;34m,\u001b[0m \u001b[0mright_index\u001b[0m\u001b[0;34m=\u001b[0m\u001b[0;32mTrue\u001b[0m\u001b[0;34m)\u001b[0m\u001b[0;34m\u001b[0m\u001b[0;34m\u001b[0m\u001b[0m\n",
            "\u001b[0;32m/usr/local/lib/python3.11/dist-packages/pandas/core/frame.py\u001b[0m in \u001b[0;36mdrop\u001b[0;34m(self, labels, axis, index, columns, level, inplace, errors)\u001b[0m\n\u001b[1;32m   5579\u001b[0m                 \u001b[0mweight\u001b[0m  \u001b[0;36m1.0\u001b[0m     \u001b[0;36m0.8\u001b[0m\u001b[0;34m\u001b[0m\u001b[0;34m\u001b[0m\u001b[0m\n\u001b[1;32m   5580\u001b[0m         \"\"\"\n\u001b[0;32m-> 5581\u001b[0;31m         return super().drop(\n\u001b[0m\u001b[1;32m   5582\u001b[0m             \u001b[0mlabels\u001b[0m\u001b[0;34m=\u001b[0m\u001b[0mlabels\u001b[0m\u001b[0;34m,\u001b[0m\u001b[0;34m\u001b[0m\u001b[0;34m\u001b[0m\u001b[0m\n\u001b[1;32m   5583\u001b[0m             \u001b[0maxis\u001b[0m\u001b[0;34m=\u001b[0m\u001b[0maxis\u001b[0m\u001b[0;34m,\u001b[0m\u001b[0;34m\u001b[0m\u001b[0;34m\u001b[0m\u001b[0m\n",
            "\u001b[0;32m/usr/local/lib/python3.11/dist-packages/pandas/core/generic.py\u001b[0m in \u001b[0;36mdrop\u001b[0;34m(self, labels, axis, index, columns, level, inplace, errors)\u001b[0m\n\u001b[1;32m   4786\u001b[0m         \u001b[0;32mfor\u001b[0m \u001b[0maxis\u001b[0m\u001b[0;34m,\u001b[0m \u001b[0mlabels\u001b[0m \u001b[0;32min\u001b[0m \u001b[0maxes\u001b[0m\u001b[0;34m.\u001b[0m\u001b[0mitems\u001b[0m\u001b[0;34m(\u001b[0m\u001b[0;34m)\u001b[0m\u001b[0;34m:\u001b[0m\u001b[0;34m\u001b[0m\u001b[0;34m\u001b[0m\u001b[0m\n\u001b[1;32m   4787\u001b[0m             \u001b[0;32mif\u001b[0m \u001b[0mlabels\u001b[0m \u001b[0;32mis\u001b[0m \u001b[0;32mnot\u001b[0m \u001b[0;32mNone\u001b[0m\u001b[0;34m:\u001b[0m\u001b[0;34m\u001b[0m\u001b[0;34m\u001b[0m\u001b[0m\n\u001b[0;32m-> 4788\u001b[0;31m                 \u001b[0mobj\u001b[0m \u001b[0;34m=\u001b[0m \u001b[0mobj\u001b[0m\u001b[0;34m.\u001b[0m\u001b[0m_drop_axis\u001b[0m\u001b[0;34m(\u001b[0m\u001b[0mlabels\u001b[0m\u001b[0;34m,\u001b[0m \u001b[0maxis\u001b[0m\u001b[0;34m,\u001b[0m \u001b[0mlevel\u001b[0m\u001b[0;34m=\u001b[0m\u001b[0mlevel\u001b[0m\u001b[0;34m,\u001b[0m \u001b[0merrors\u001b[0m\u001b[0;34m=\u001b[0m\u001b[0merrors\u001b[0m\u001b[0;34m)\u001b[0m\u001b[0;34m\u001b[0m\u001b[0;34m\u001b[0m\u001b[0m\n\u001b[0m\u001b[1;32m   4789\u001b[0m \u001b[0;34m\u001b[0m\u001b[0m\n\u001b[1;32m   4790\u001b[0m         \u001b[0;32mif\u001b[0m \u001b[0minplace\u001b[0m\u001b[0;34m:\u001b[0m\u001b[0;34m\u001b[0m\u001b[0;34m\u001b[0m\u001b[0m\n",
            "\u001b[0;32m/usr/local/lib/python3.11/dist-packages/pandas/core/generic.py\u001b[0m in \u001b[0;36m_drop_axis\u001b[0;34m(self, labels, axis, level, errors, only_slice)\u001b[0m\n\u001b[1;32m   4828\u001b[0m                 \u001b[0mnew_axis\u001b[0m \u001b[0;34m=\u001b[0m \u001b[0maxis\u001b[0m\u001b[0;34m.\u001b[0m\u001b[0mdrop\u001b[0m\u001b[0;34m(\u001b[0m\u001b[0mlabels\u001b[0m\u001b[0;34m,\u001b[0m \u001b[0mlevel\u001b[0m\u001b[0;34m=\u001b[0m\u001b[0mlevel\u001b[0m\u001b[0;34m,\u001b[0m \u001b[0merrors\u001b[0m\u001b[0;34m=\u001b[0m\u001b[0merrors\u001b[0m\u001b[0;34m)\u001b[0m\u001b[0;34m\u001b[0m\u001b[0;34m\u001b[0m\u001b[0m\n\u001b[1;32m   4829\u001b[0m             \u001b[0;32melse\u001b[0m\u001b[0;34m:\u001b[0m\u001b[0;34m\u001b[0m\u001b[0;34m\u001b[0m\u001b[0m\n\u001b[0;32m-> 4830\u001b[0;31m                 \u001b[0mnew_axis\u001b[0m \u001b[0;34m=\u001b[0m \u001b[0maxis\u001b[0m\u001b[0;34m.\u001b[0m\u001b[0mdrop\u001b[0m\u001b[0;34m(\u001b[0m\u001b[0mlabels\u001b[0m\u001b[0;34m,\u001b[0m \u001b[0merrors\u001b[0m\u001b[0;34m=\u001b[0m\u001b[0merrors\u001b[0m\u001b[0;34m)\u001b[0m\u001b[0;34m\u001b[0m\u001b[0;34m\u001b[0m\u001b[0m\n\u001b[0m\u001b[1;32m   4831\u001b[0m             \u001b[0mindexer\u001b[0m \u001b[0;34m=\u001b[0m \u001b[0maxis\u001b[0m\u001b[0;34m.\u001b[0m\u001b[0mget_indexer\u001b[0m\u001b[0;34m(\u001b[0m\u001b[0mnew_axis\u001b[0m\u001b[0;34m)\u001b[0m\u001b[0;34m\u001b[0m\u001b[0;34m\u001b[0m\u001b[0m\n\u001b[1;32m   4832\u001b[0m \u001b[0;34m\u001b[0m\u001b[0m\n",
            "\u001b[0;32m/usr/local/lib/python3.11/dist-packages/pandas/core/indexes/base.py\u001b[0m in \u001b[0;36mdrop\u001b[0;34m(self, labels, errors)\u001b[0m\n\u001b[1;32m   7068\u001b[0m         \u001b[0;32mif\u001b[0m \u001b[0mmask\u001b[0m\u001b[0;34m.\u001b[0m\u001b[0many\u001b[0m\u001b[0;34m(\u001b[0m\u001b[0;34m)\u001b[0m\u001b[0;34m:\u001b[0m\u001b[0;34m\u001b[0m\u001b[0;34m\u001b[0m\u001b[0m\n\u001b[1;32m   7069\u001b[0m             \u001b[0;32mif\u001b[0m \u001b[0merrors\u001b[0m \u001b[0;34m!=\u001b[0m \u001b[0;34m\"ignore\"\u001b[0m\u001b[0;34m:\u001b[0m\u001b[0;34m\u001b[0m\u001b[0;34m\u001b[0m\u001b[0m\n\u001b[0;32m-> 7070\u001b[0;31m                 \u001b[0;32mraise\u001b[0m \u001b[0mKeyError\u001b[0m\u001b[0;34m(\u001b[0m\u001b[0;34mf\"{labels[mask].tolist()} not found in axis\"\u001b[0m\u001b[0;34m)\u001b[0m\u001b[0;34m\u001b[0m\u001b[0;34m\u001b[0m\u001b[0m\n\u001b[0m\u001b[1;32m   7071\u001b[0m             \u001b[0mindexer\u001b[0m \u001b[0;34m=\u001b[0m \u001b[0mindexer\u001b[0m\u001b[0;34m[\u001b[0m\u001b[0;34m~\u001b[0m\u001b[0mmask\u001b[0m\u001b[0;34m]\u001b[0m\u001b[0;34m\u001b[0m\u001b[0;34m\u001b[0m\u001b[0m\n\u001b[1;32m   7072\u001b[0m         \u001b[0;32mreturn\u001b[0m \u001b[0mself\u001b[0m\u001b[0;34m.\u001b[0m\u001b[0mdelete\u001b[0m\u001b[0;34m(\u001b[0m\u001b[0mindexer\u001b[0m\u001b[0;34m)\u001b[0m\u001b[0;34m\u001b[0m\u001b[0;34m\u001b[0m\u001b[0m\n",
            "\u001b[0;31mKeyError\u001b[0m: \"['md5Hash', 'FileName'] not found in axis\""
          ]
        }
      ]
    },
    {
      "cell_type": "code",
      "metadata": {
        "colab": {
          "base_uri": "https://localhost:8080/",
          "height": 362
        },
        "id": "f34a49f1",
        "outputId": "6c2e8494-5676-4704-b0ff-4fd0137bed3b"
      },
      "source": [
        "from sklearn.model_selection import train_test_split\n",
        "\n",
        "# --- IMPORTANT: Replace this section with your actual target variable definition ---\n",
        "# Example: Assuming you have a column named 'Label' in your original df\n",
        "# If your target variable is in a different DataFrame or needs to be derived,\n",
        "# update this code accordingly.\n",
        "#\n",
        "# Placeholder for demonstration - replace with your actual target variable\n",
        "# For instance, if you have labels in a separate CSV:\n",
        "# labels_df = pd.read_csv('/content/drive/MyDrive/your_labels_file.csv')\n",
        "# y = labels_df['Label']\n",
        "#\n",
        "# If you can derive the label from existing data, do it here.\n",
        "# Example: If 'Unnamed: 0' indicates ransomware (e.g., 'ransomware_sample_1'):\n",
        "# y = df['Unnamed: 0'].apply(lambda x: 1 if 'ransomware' in str(x).lower() else 0)\n",
        "\n",
        "# For now, let's create a dummy target variable based on a simple condition for demonstration\n",
        "# Replace this with your actual target variable definition!\n",
        "y = (df['SetEndOfFile'] > 0).astype(int) # Dummy example: 1 if SetEndOfFile > 0, else 0\n",
        "# --- End of IMPORTANT section ---\n",
        "\n",
        "\n",
        "# Ensure y has the same index as X\n",
        "y = y.loc[df1.index]\n",
        "\n",
        "\n",
        "# Define your features (X) - use df1 which has numeric columns and first row removed\n",
        "X = df1\n",
        "\n",
        "# Split data into training and testing sets\n",
        "X_train, X_test, y_train, y_test = train_test_split(X, y, test_size=0.2, random_state=42, stratify=y)\n",
        "\n",
        "print(\"Data split successfully:\")\n",
        "print(\"X_train shape:\", X_train.shape)\n",
        "print(\"X_test shape:\", X_test.shape)\n",
        "print(\"y_train shape:\", y_train.shape)\n",
        "print(\"y_test shape:\", y_test.shape)\n",
        "\n",
        "# Display the first few values of y to check\n",
        "print(\"\\nFirst 5 values of y:\")\n",
        "display(y.head())"
      ],
      "execution_count": 33,
      "outputs": [
        {
          "output_type": "stream",
          "name": "stdout",
          "text": [
            "Data split successfully:\n",
            "X_train shape: (308, 48)\n",
            "X_test shape: (78, 48)\n",
            "y_train shape: (308,)\n",
            "y_test shape: (78,)\n",
            "\n",
            "First 5 values of y:\n"
          ]
        },
        {
          "output_type": "display_data",
          "data": {
            "text/plain": [
              "1    0\n",
              "2    0\n",
              "3    0\n",
              "4    0\n",
              "5    0\n",
              "Name: SetEndOfFile, dtype: int64"
            ],
            "text/html": [
              "<div>\n",
              "<style scoped>\n",
              "    .dataframe tbody tr th:only-of-type {\n",
              "        vertical-align: middle;\n",
              "    }\n",
              "\n",
              "    .dataframe tbody tr th {\n",
              "        vertical-align: top;\n",
              "    }\n",
              "\n",
              "    .dataframe thead th {\n",
              "        text-align: right;\n",
              "    }\n",
              "</style>\n",
              "<table border=\"1\" class=\"dataframe\">\n",
              "  <thead>\n",
              "    <tr style=\"text-align: right;\">\n",
              "      <th></th>\n",
              "      <th>SetEndOfFile</th>\n",
              "    </tr>\n",
              "  </thead>\n",
              "  <tbody>\n",
              "    <tr>\n",
              "      <th>1</th>\n",
              "      <td>0</td>\n",
              "    </tr>\n",
              "    <tr>\n",
              "      <th>2</th>\n",
              "      <td>0</td>\n",
              "    </tr>\n",
              "    <tr>\n",
              "      <th>3</th>\n",
              "      <td>0</td>\n",
              "    </tr>\n",
              "    <tr>\n",
              "      <th>4</th>\n",
              "      <td>0</td>\n",
              "    </tr>\n",
              "    <tr>\n",
              "      <th>5</th>\n",
              "      <td>0</td>\n",
              "    </tr>\n",
              "  </tbody>\n",
              "</table>\n",
              "</div><br><label><b>dtype:</b> int64</label>"
            ]
          },
          "metadata": {}
        }
      ]
    },
    {
      "cell_type": "code",
      "source": [
        "# Create df2 for 'Category' prediction\n",
        "# df2 = df.drop(columns=drop_cols + ['Class', 'Family'])\n",
        "# df2 = df2.select_dtypes(include=['int64', 'float64']).join(df['Category'])\n",
        "\n",
        "# Assuming df1 is the desired DataFrame with numeric columns after removing the first row\n",
        "df2 = df1.copy()"
      ],
      "metadata": {
        "id": "d4Bqh2EEaGCt"
      },
      "execution_count": 35,
      "outputs": []
    },
    {
      "cell_type": "code",
      "source": [
        "# Create df3 for 'Family' prediction\n",
        "# df3 = df.drop(columns=drop_cols + ['Class', 'Category'])\n",
        "# df3 = df3.select_dtypes(include=['int64', 'float64']).join(df['Family'])\n",
        "\n",
        "# Assuming df1 is the desired DataFrame with numeric columns after removing the first row\n",
        "df3 = df1.copy()\n",
        "\n",
        "print(\"df1, df2, df3 created successfully:\")\n",
        "print(\"df1 shape (Class):\", df1.shape)\n",
        "print(\"df2 shape (Category):\", df2.shape)\n",
        "print(\"df3 shape (Family):\", df3.shape)"
      ],
      "metadata": {
        "colab": {
          "base_uri": "https://localhost:8080/"
        },
        "id": "i8VrK12yaNSs",
        "outputId": "80a1a0f9-9eb8-409a-b4fe-03b55facde67"
      },
      "execution_count": 37,
      "outputs": [
        {
          "output_type": "stream",
          "name": "stdout",
          "text": [
            "df1, df2, df3 created successfully:\n",
            "df1 shape (Class): (386, 48)\n",
            "df2 shape (Category): (386, 48)\n",
            "df3 shape (Family): (386, 48)\n"
          ]
        }
      ]
    },
    {
      "cell_type": "code",
      "source": [
        "#df1, df2, df3 created successfully:\n",
        "#df1 shape (Class): (21752, 19)\n",
        "#df2 shape (Category): (21752, 19)\n",
        "#df3 shape (Family): (21752, 19)"
      ],
      "metadata": {
        "id": "_Os-R3UcaT_E"
      },
      "execution_count": 38,
      "outputs": []
    },
    {
      "cell_type": "code",
      "source": [
        "#Binary Class Classification\n",
        "\n",
        "import matplotlib.pyplot as plt\n",
        "from sklearn.model_selection import train_test_split\n",
        "from sklearn.preprocessing import LabelEncoder, StandardScaler\n",
        "from sklearn.metrics import accuracy_score, precision_score, recall_score, f1_score, confusion_matrix, roc_curve, auc\n",
        "from sklearn.tree import DecisionTreeClassifier\n",
        "from sklearn.neighbors import KNeighborsClassifier\n",
        "from sklearn.ensemble import RandomForestClassifier"
      ],
      "metadata": {
        "id": "UrQhY75caX2F"
      },
      "execution_count": 39,
      "outputs": []
    },
    {
      "cell_type": "code",
      "source": [
        "# 1. Feature-label split\n",
        "# X = df1.drop(columns=['Class'])\n",
        "# y = df1['Class']"
      ],
      "metadata": {
        "id": "DAkDAks7abPt"
      },
      "execution_count": 41,
      "outputs": []
    },
    {
      "cell_type": "code",
      "source": [
        "# 2. Encode labels\n",
        "le = LabelEncoder()\n",
        "y_encoded = le.fit_transform(y)"
      ],
      "metadata": {
        "id": "gJ76VlBSaguM"
      },
      "execution_count": 42,
      "outputs": []
    },
    {
      "cell_type": "code",
      "source": [
        "# 3. Split and scale\n",
        "X_train, X_test, y_train, y_test = train_test_split(\n",
        "    X, y_encoded, test_size=0.2, random_state=42, stratify=y_encoded\n",
        ")\n",
        "\n",
        "scaler = StandardScaler()\n",
        "X_train_scaled = scaler.fit_transform(X_train)\n",
        "X_test_scaled = scaler.transform(X_test)\n"
      ],
      "metadata": {
        "id": "L_UNeSplakUt"
      },
      "execution_count": 43,
      "outputs": []
    },
    {
      "cell_type": "code",
      "source": [
        "# 4. Define models\n",
        "models = {\n",
        "    'Decision Tree': DecisionTreeClassifier(random_state=42),\n",
        "    'KNN': KNeighborsClassifier(n_neighbors=5),\n",
        "    'Random Forest': RandomForestClassifier(n_estimators=100, random_state=42)\n",
        "}"
      ],
      "metadata": {
        "id": "W_EYxbXEanht"
      },
      "execution_count": 44,
      "outputs": []
    },
    {
      "cell_type": "code",
      "source": [
        "# 5. Train, Predict, Evaluate\n",
        "plt.figure(figsize=(10, 6))\n",
        "for name, model in models.items():\n",
        "    model.fit(X_train_scaled, y_train)\n",
        "    y_pred = model.predict(X_test_scaled)\n",
        "    y_prob = model.predict_proba(X_test_scaled)[:, 1]\n",
        "\n",
        "    print(f\"\\n {name} Metrics:\")\n",
        "    print(\"Accuracy :\", accuracy_score(y_test, y_pred))\n",
        "    print(\"Precision:\", precision_score(y_test, y_pred))\n",
        "    print(\"Recall   :\", recall_score(y_test, y_pred))\n",
        "    print(\"F1 Score :\", f1_score(y_test, y_pred))\n",
        "    print(\"Confusion Matrix:\\n\", confusion_matrix(y_test, y_pred))\n",
        "# ROC curve\n",
        "    fpr, tpr, _ = roc_curve(y_test, y_prob)\n",
        "    roc_auc = auc(fpr, tpr)\n",
        "    plt.plot(fpr, tpr, label=f'{name} (AUC = {roc_auc:.2f})')\n",
        "\n",
        "# 6. Plot ROC Curve\n",
        "plt.plot([0, 1], [0, 1], 'k--')\n",
        "plt.xlabel('False Positive Rate')\n",
        "plt.ylabel('True Positive Rate')\n",
        "plt.title('ROC Curve - Class (Benign vs Malware)')\n",
        "plt.legend()\n",
        "plt.grid(True)\n",
        "plt.tight_layout()\n",
        "plt.show()\n",
        "\n",
        "\n",
        "#ROC Curve for Binary Class Classification"
      ],
      "metadata": {
        "colab": {
          "base_uri": "https://localhost:8080/",
          "height": 1000
        },
        "id": "HYM6tCM7atRE",
        "outputId": "b166068c-dcf8-4bdc-d0d2-6362cfc9fb4a"
      },
      "execution_count": 46,
      "outputs": [
        {
          "output_type": "stream",
          "name": "stdout",
          "text": [
            "\n",
            " Decision Tree Metrics:\n",
            "Accuracy : 1.0\n",
            "Precision: 1.0\n",
            "Recall   : 1.0\n",
            "F1 Score : 1.0\n",
            "Confusion Matrix:\n",
            " [[65  0]\n",
            " [ 0 13]]\n",
            "\n",
            " KNN Metrics:\n",
            "Accuracy : 0.8974358974358975\n",
            "Precision: 0.6666666666666666\n",
            "Recall   : 0.7692307692307693\n",
            "F1 Score : 0.7142857142857143\n",
            "Confusion Matrix:\n",
            " [[60  5]\n",
            " [ 3 10]]\n",
            "\n",
            " Random Forest Metrics:\n",
            "Accuracy : 1.0\n",
            "Precision: 1.0\n",
            "Recall   : 1.0\n",
            "F1 Score : 1.0\n",
            "Confusion Matrix:\n",
            " [[65  0]\n",
            " [ 0 13]]\n"
          ]
        },
        {
          "output_type": "display_data",
          "data": {
            "text/plain": [
              "<Figure size 1000x600 with 1 Axes>"
            ],
            "image/png": "[encoded data removed]"
          },
          "metadata": {}
        }
      ]
    },
    {
      "cell_type": "code",
      "source": [
        "#Multiclass Classification (4 Classes)\n",
        "\n",
        "from sklearn.metrics import roc_auc_score\n",
        "from sklearn.preprocessing import label_binarize"
      ],
      "metadata": {
        "id": "PV9zzOqJaxfs"
      },
      "execution_count": 47,
      "outputs": []
    },
    {
      "cell_type": "code",
      "source": [
        "# 1. Feature-label split\n",
        "# X = df2.drop(columns=['Category'])\n",
        "# y = df2['Category']"
      ],
      "metadata": {
        "id": "YaMttwfPa_tU"
      },
      "execution_count": 49,
      "outputs": []
    },
    {
      "cell_type": "code",
      "source": [
        "# 2. Encode labels\n",
        "le = LabelEncoder()\n",
        "y_encoded = le.fit_transform(y)\n",
        "class_names = le.classes_"
      ],
      "metadata": {
        "id": "MWyhTHbbbGAk"
      },
      "execution_count": 50,
      "outputs": []
    },
    {
      "cell_type": "code",
      "source": [
        "# 3. One-hot encode for ROC-AUC (multiclass)\n",
        "y_binarized = label_binarize(y_encoded, classes=range(len(class_names)))"
      ],
      "metadata": {
        "id": "-Z_B1peDbIvk"
      },
      "execution_count": 51,
      "outputs": []
    },
    {
      "cell_type": "code",
      "source": [
        "# 4. Train-test split + scale\n",
        "X_train, X_test, y_train, y_test = train_test_split(\n",
        "    X, y_encoded, test_size=0.2, random_state=42, stratify=y_encoded\n",
        ")\n",
        "scaler = StandardScaler()\n",
        "X_train_scaled = scaler.fit_transform(X_train)\n",
        "X_test_scaled = scaler.transform(X_test)\n"
      ],
      "metadata": {
        "id": "xDu07wckbK9c"
      },
      "execution_count": 52,
      "outputs": []
    },
    {
      "cell_type": "code",
      "source": [
        "# 5. Models\n",
        "models = {\n",
        "    'Decision Tree': DecisionTreeClassifier(random_state=42),\n",
        "    'KNN': KNeighborsClassifier(n_neighbors=5),\n",
        "    'Random Forest': RandomForestClassifier(n_estimators=100, random_state=42)\n",
        "}"
      ],
      "metadata": {
        "id": "1WpbZiJXbOVc"
      },
      "execution_count": 53,
      "outputs": []
    },
    {
      "cell_type": "code",
      "source": [
        "# 6. Train and Evaluate\n",
        "import numpy as np # Import numpy\n",
        "\n",
        "plt.figure(figsize=(10, 6))\n",
        "\n",
        "for name, model in models.items():\n",
        "    model.fit(X_train_scaled, y_train)\n",
        "    y_pred = model.predict(X_test_scaled)\n",
        "    y_prob = model.predict_proba(X_test_scaled)\n",
        "\n",
        "    print(f\"\\n {name} Metrics:\")\n",
        "    print(\"Accuracy :\", accuracy_score(y_test, y_pred))\n",
        "    print(\"Precision (macro):\", precision_score(y_test, y_pred, average='macro', zero_division=0)) # Added zero_division\n",
        "    print(\"Recall (macro)   :\", recall_score(y_test, y_pred, average='macro', zero_division=0))    # Added zero_division\n",
        "    print(\"F1 Score (macro) :\", f1_score(y_test, y_pred, average='macro', zero_division=0))       # Added zero_division\n",
        "    print(\"Confusion Matrix:\\n\", confusion_matrix(y_test, y_pred))\n",
        "\n",
        ""
      ],
      "metadata": {
        "colab": {
          "base_uri": "https://localhost:8080/",
          "height": 503
        },
        "id": "zqwW5P5HbQ-0",
        "outputId": "73b870a3-06ab-4c95-f28b-66ba7225adb9"
      },
      "execution_count": 58,
      "outputs": [
        {
          "output_type": "stream",
          "name": "stdout",
          "text": [
            "\n",
            " Decision Tree Metrics:\n",
            "Accuracy : 1.0\n",
            "Precision (macro): 1.0\n",
            "Recall (macro)   : 1.0\n",
            "F1 Score (macro) : 1.0\n",
            "Confusion Matrix:\n",
            " [[65  0]\n",
            " [ 0 13]]\n",
            "\n",
            " KNN Metrics:\n",
            "Accuracy : 0.8974358974358975\n",
            "Precision (macro): 0.8095238095238095\n",
            "Recall (macro)   : 0.8461538461538463\n",
            "F1 Score (macro) : 0.8258928571428572\n",
            "Confusion Matrix:\n",
            " [[60  5]\n",
            " [ 3 10]]\n",
            "\n",
            " Random Forest Metrics:\n",
            "Accuracy : 1.0\n",
            "Precision (macro): 1.0\n",
            "Recall (macro)   : 1.0\n",
            "F1 Score (macro) : 1.0\n",
            "Confusion Matrix:\n",
            " [[65  0]\n",
            " [ 0 13]]\n"
          ]
        },
        {
          "output_type": "display_data",
          "data": {
            "text/plain": [
              "<Figure size 1000x600 with 0 Axes>"
            ]
          },
          "metadata": {}
        }
      ]
    },
    {
      "cell_type": "code",
      "metadata": {
        "colab": {
          "base_uri": "https://localhost:8080/",
          "height": 414
        },
        "id": "0b2b11d7",
        "outputId": "027fb455-db3c-43df-ec85-847888172d7c"
      },
      "source": [
        "from sklearn.model_selection import train_test_split\n",
        "from sklearn.preprocessing import LabelEncoder, StandardScaler\n",
        "import numpy as np # Import numpy for unique\n",
        "\n",
        "# --- IMPORTANT: Replace this section with your actual target variable definition for 'Family' ---\n",
        "# Define your target variable (y_family) here.\n",
        "# For example, if you have a column named 'FamilyLabel' in a separate DataFrame:\n",
        "# family_labels_df = pd.read_csv('/content/drive/MyDrive/your_family_labels_file.csv')\n",
        "# y_family = family_labels_df['FamilyLabel']\n",
        "# Or if you can derive the Family label from existing data, do it here.\n",
        "# Replace the lines below with your code to define y_family:\n",
        "\n",
        "# For now, let's create a dummy target variable based on a simple condition for demonstration\n",
        "# Replace this with your actual target variable definition!\n",
        "# This example creates 3 \"dummy families\" based on ranges of 'NtWriteFile'\n",
        "def assign_dummy_family(write_count):\n",
        "    if write_count < 100:\n",
        "        return 'Family_A'\n",
        "    elif 100 <= write_count < 1000:\n",
        "        return 'Family_B'\n",
        "    else:\n",
        "        return 'Family_C'\n",
        "\n",
        "y_family = df3['NtWriteFile'].apply(assign_dummy_family)\n",
        "# --- End of IMPORTANT section ---\n",
        "\n",
        "# Encode labels\n",
        "le_family = LabelEncoder()\n",
        "y_family_encoded = le_family.fit_transform(y_family)\n",
        "family_class_names = le_family.classes_\n",
        "\n",
        "# Define your features (X_family) - use df3\n",
        "X_family = df3\n",
        "\n",
        "# Split data into training and testing sets\n",
        "X_family_train, X_family_test, y_family_train_encoded, y_family_test_encoded = train_test_split(\n",
        "    X_family, y_family_encoded, test_size=0.2, random_state=42, stratify=y_family_encoded\n",
        ")\n",
        "\n",
        "# Scale features\n",
        "scaler_family = StandardScaler()\n",
        "X_family_train_scaled = scaler_family.fit_transform(X_family_train)\n",
        "X_family_test_scaled = scaler_family.transform(X_family_test)\n",
        "\n",
        "print(\"Data split for Family prediction successfully:\")\n",
        "print(\"X_family_train shape:\", X_family_train.shape)\n",
        "print(\"X_family_test shape:\", X_family_test.shape)\n",
        "print(\"y_family_train_encoded shape:\", y_family_train_encoded.shape)\n",
        "print(\"y_family_test_encoded shape:\", y_family_test_encoded.shape)\n",
        "\n",
        "# Display the first few values of y_family_encoded to check\n",
        "print(\"\\nFirst 5 encoded values of y_family:\")\n",
        "display(y_family_encoded[:5])\n",
        "\n",
        "# Display the first few original family values to check\n",
        "print(\"\\nFirst 5 original values of y_family:\")\n",
        "display(y_family.head())"
      ],
      "execution_count": 62,
      "outputs": [
        {
          "output_type": "stream",
          "name": "stdout",
          "text": [
            "Data split for Family prediction successfully:\n",
            "X_family_train shape: (308, 48)\n",
            "X_family_test shape: (78, 48)\n",
            "y_family_train_encoded shape: (308,)\n",
            "y_family_test_encoded shape: (78,)\n",
            "\n",
            "First 5 encoded values of y_family:\n"
          ]
        },
        {
          "output_type": "display_data",
          "data": {
            "text/plain": [
              "array([0, 0, 0, 0, 0])"
            ]
          },
          "metadata": {}
        },
        {
          "output_type": "stream",
          "name": "stdout",
          "text": [
            "\n",
            "First 5 original values of y_family:\n"
          ]
        },
        {
          "output_type": "display_data",
          "data": {
            "text/plain": [
              "1    Family_A\n",
              "2    Family_A\n",
              "3    Family_A\n",
              "4    Family_A\n",
              "5    Family_A\n",
              "Name: NtWriteFile, dtype: object"
            ],
            "text/html": [
              "<div>\n",
              "<style scoped>\n",
              "    .dataframe tbody tr th:only-of-type {\n",
              "        vertical-align: middle;\n",
              "    }\n",
              "\n",
              "    .dataframe tbody tr th {\n",
              "        vertical-align: top;\n",
              "    }\n",
              "\n",
              "    .dataframe thead th {\n",
              "        text-align: right;\n",
              "    }\n",
              "</style>\n",
              "<table border=\"1\" class=\"dataframe\">\n",
              "  <thead>\n",
              "    <tr style=\"text-align: right;\">\n",
              "      <th></th>\n",
              "      <th>NtWriteFile</th>\n",
              "    </tr>\n",
              "  </thead>\n",
              "  <tbody>\n",
              "    <tr>\n",
              "      <th>1</th>\n",
              "      <td>Family_A</td>\n",
              "    </tr>\n",
              "    <tr>\n",
              "      <th>2</th>\n",
              "      <td>Family_A</td>\n",
              "    </tr>\n",
              "    <tr>\n",
              "      <th>3</th>\n",
              "      <td>Family_A</td>\n",
              "    </tr>\n",
              "    <tr>\n",
              "      <th>4</th>\n",
              "      <td>Family_A</td>\n",
              "    </tr>\n",
              "    <tr>\n",
              "      <th>5</th>\n",
              "      <td>Family_A</td>\n",
              "    </tr>\n",
              "  </tbody>\n",
              "</table>\n",
              "</div><br><label><b>dtype:</b> object</label>"
            ]
          },
          "metadata": {}
        }
      ]
    },
    {
      "cell_type": "code",
      "source": [],
      "metadata": {
        "id": "xUltrva_cKml"
      },
      "execution_count": null,
      "outputs": []
    }
  ]
}